{
 "cells": [
  {
   "cell_type": "code",
   "execution_count": null,
   "id": "37f14128",
   "metadata": {},
   "outputs": [],
   "source": [
    "#Write a Python Program to check if a number is prime or no\n",
    "n=int(input(\"Enter the number: \"))\n",
    "if n>1:\n",
    "    for i in range(2,n+1):\n",
    "        if n%i==0: \n",
    "            print(\"Not prime number\")\n",
    "            break\n",
    "        else:\n",
    "            print(\"Prime number\")\n",
    "            break\n",
    "else:\n",
    "    print(\"Not prime number\")"
   ]
  },
  {
   "cell_type": "code",
   "execution_count": null,
   "id": "4a394b67",
   "metadata": {},
   "outputs": [],
   "source": [
    "#Python program to display all the prime numbers within an interval\n",
    "n1=int(input(\"Enter the number 1 :\"))\n",
    "n2=int(input(\"Enter the number 2 :\"))\n",
    "for num in range(n1,n2+1):\n",
    "    if num>1:\n",
    "        for i in range(2,num):\n",
    "            if(num%i==0):\n",
    "                break\n",
    "        else:\n",
    "            print(num)"
   ]
  },
  {
   "cell_type": "code",
   "execution_count": null,
   "id": "4d92b2a2",
   "metadata": {},
   "outputs": [],
   "source": [
    "#Python program to find the factorial of a number.\n",
    "n=int(input(\"Enter the number\"))\n",
    "fact=1\n",
    "while n>0:\n",
    "    fact=fact*n\n",
    "    n=n-1\n",
    "print(fact)"
   ]
  },
  {
   "cell_type": "code",
   "execution_count": null,
   "id": "6e771c02",
   "metadata": {},
   "outputs": [],
   "source": [
    "#Python Program to Display the multiplication Table\n",
    "n=int(input(\"Enter the number\"))\n",
    "for i in range(1,11):\n",
    "    k=n*i\n",
    "    print(n, \"X\",i,\"=\",k)"
   ]
  },
  {
   "cell_type": "code",
   "execution_count": 19,
   "id": "f69e04fc",
   "metadata": {},
   "outputs": [
    {
     "name": "stdout",
     "output_type": "stream",
     "text": [
      "Enter the number:10\n",
      "55\n"
     ]
    }
   ],
   "source": [
    "#Python Program to Print the Fibonacci sequence\n",
    "n=int(input(\"Enter the number:\"))\n",
    "summ=0\n",
    "while n>0:\n",
    "    summ=summ+n\n",
    "    n=n-1\n",
    "print(summ)\n",
    "    "
   ]
  },
  {
   "cell_type": "code",
   "execution_count": 46,
   "id": "f318b37e",
   "metadata": {},
   "outputs": [
    {
     "name": "stdout",
     "output_type": "stream",
     "text": [
      "Enter the number1634\n",
      "not armstrong\n"
     ]
    }
   ],
   "source": [
    "#Python Program to Check Armstrong Number (for 3 digits)\n",
    "n=int(input(\"Enter the number\"))\n",
    "summ=0\n",
    "m=n\n",
    "while n>0 :\n",
    "    r=n%10\n",
    "    summ+=r ** 3\n",
    "    n=n//10\n",
    "if summ==m:\n",
    "    print(\"Armstong bitch\")\n",
    "else:\n",
    "    print(\"not armstrong\")"
   ]
  },
  {
   "cell_type": "code",
   "execution_count": 44,
   "id": "85f8f53d",
   "metadata": {},
   "outputs": [
    {
     "name": "stdout",
     "output_type": "stream",
     "text": [
      "Enter the number2222\n",
      "32\n"
     ]
    }
   ],
   "source": [
    "#find the sum of the cube of each digit\n",
    "n=int(input(\"Enter the number\"))\n",
    "summ=0\n",
    "while n>0:\n",
    "    r=n%10\n",
    "    summ=summ+(r ** 3)\n",
    "    n=n//10\n",
    "print(summ)\n",
    "\n"
   ]
  },
  {
   "cell_type": "code",
   "execution_count": 69,
   "id": "a2a53af4",
   "metadata": {},
   "outputs": [
    {
     "name": "stdout",
     "output_type": "stream",
     "text": [
      "Enter the number 1:121\n",
      "Enter the number 2:211\n",
      "153\n"
     ]
    }
   ],
   "source": [
    "#Python Program to Find Armstrong Number in an Interval\n",
    "lower = int(input(\"Enter the number 1:\"))\n",
    "upper = int(input(\"Enter the number 2:\"))\n",
    "\n",
    "for num in range(lower, upper + 1):\n",
    "\n",
    "   # order of number\n",
    "   order = len(str(num))\n",
    "   summ = 0\n",
    "\n",
    "   m = num\n",
    "   while m > 0:\n",
    "       r = m % 10\n",
    "       summ += r ** order\n",
    "       m //= 10\n",
    "\n",
    "   if num == summ:\n",
    "       print(num)"
   ]
  },
  {
   "cell_type": "code",
   "execution_count": 51,
   "id": "1c4e0f0f",
   "metadata": {},
   "outputs": [
    {
     "name": "stdout",
     "output_type": "stream",
     "text": [
      "5\n",
      "15\n"
     ]
    }
   ],
   "source": [
    "#Python Program to Find the Sum of Natural Numbers\n",
    "n=int(input(\"\"))\n",
    "s=0\n",
    "while n>0:\n",
    "    s=s+n\n",
    "    n-=1\n",
    "print(s)"
   ]
  },
  {
   "cell_type": "code",
   "execution_count": 67,
   "id": "2f0c4848",
   "metadata": {},
   "outputs": [
    {
     "name": "stdout",
     "output_type": "stream",
     "text": [
      "40\n",
      "2\n",
      "Divisible\n"
     ]
    }
   ],
   "source": [
    "#python Program to Find Numbers Divisible by Another Number\n",
    "n=int(input(\"\"))\n",
    "x=int(input(\"\"))\n",
    "if n%x==0:\n",
    "    print(\"Divisible\")\n",
    "else:\n",
    "    print(\"not divisible\")"
   ]
  },
  {
   "cell_type": "markdown",
   "id": "85b3b988",
   "metadata": {},
   "source": [
    "# "
   ]
  }
 ],
 "metadata": {
  "kernelspec": {
   "display_name": "Python 3",
   "language": "python",
   "name": "python3"
  },
  "language_info": {
   "codemirror_mode": {
    "name": "ipython",
    "version": 3
   },
   "file_extension": ".py",
   "mimetype": "text/x-python",
   "name": "python",
   "nbconvert_exporter": "python",
   "pygments_lexer": "ipython3",
   "version": "3.8.8"
  }
 },
 "nbformat": 4,
 "nbformat_minor": 5
}
