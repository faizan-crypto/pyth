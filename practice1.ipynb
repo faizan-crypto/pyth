{
 "cells": [
  {
   "cell_type": "code",
   "execution_count": null,
   "id": "878b37e0",
   "metadata": {},
   "outputs": [],
   "source": [
    "#multiplication of number\n",
    "num=int(input(\"Enter the number:\"));\n",
    "print(\"Multiplication table of \", num)\n",
    "for i in range(1,11):\n",
    "    k=num*i\n",
    "    print(num,\" X\", i,\" = \", k)"
   ]
  },
  {
   "cell_type": "code",
   "execution_count": null,
   "id": "58cca9da",
   "metadata": {},
   "outputs": [],
   "source": [
    "#WAP to print sum of n natural numbers, where n is entered by the user\n",
    "num=int(input(\"enter the number\"))\n",
    "if num<0:\n",
    "    print(\"ERROR\")\n",
    "else:\n",
    "    sum=0\n",
    "    while num>0:\n",
    "        sum=sum+num\n",
    "        num=num-1\n",
    "    print(\"The sum is\", sum)"
   ]
  },
  {
   "cell_type": "code",
   "execution_count": null,
   "id": "fac5bf73",
   "metadata": {},
   "outputs": [],
   "source": [
    "#WAP to print the factorial of the given number, where number is entered by the user. \n",
    "num=int(input(\"Enter the number:\"))\n",
    "fact=1\n",
    "while num>0:\n",
    "    fact=fact*num\n",
    "    num=num-1\n",
    "print(\"The factorial is\", fact)"
   ]
  },
  {
   "cell_type": "code",
   "execution_count": null,
   "id": "2e12fc83",
   "metadata": {},
   "outputs": [],
   "source": [
    "#WAP to input sales of the month and calculate the average sales of that mo\n",
    "#WAP to input sales of the month and calculate the average sales of that mo\n",
    "n=int(input(\"Enter the days in month\"))\n",
    "a=[]\n",
    "for i in range(1,n+1):\n",
    "    sale=int(input(\"Enter the sales of day {} :\".format(i)))\n",
    "    a.append(sale)\n",
    "sumX= sum(a)\n",
    "avg=sumX/n\n",
    "print(avg)\n",
    "    "
   ]
  },
  {
   "cell_type": "code",
   "execution_count": null,
   "id": "ae366b41",
   "metadata": {},
   "outputs": [],
   "source": [
    "#Python Program to Convert Kilometers to Miles\n",
    "km=int(input(\"\")) \n",
    "miles=float((1/(1.6))*km) \n",
    "print(miles)"
   ]
  },
  {
   "cell_type": "code",
   "execution_count": null,
   "id": "040c2a68",
   "metadata": {},
   "outputs": [],
   "source": []
  }
 ],
 "metadata": {
  "kernelspec": {
   "display_name": "Python 3",
   "language": "python",
   "name": "python3"
  },
  "language_info": {
   "codemirror_mode": {
    "name": "ipython",
    "version": 3
   },
   "file_extension": ".py",
   "mimetype": "text/x-python",
   "name": "python",
   "nbconvert_exporter": "python",
   "pygments_lexer": "ipython3",
   "version": "3.8.8"
  }
 },
 "nbformat": 4,
 "nbformat_minor": 5
}
