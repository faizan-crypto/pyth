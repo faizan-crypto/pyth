{
 "cells": [
  {
   "cell_type": "code",
   "execution_count": null,
   "id": "cbfe0c8f",
   "metadata": {},
   "outputs": [],
   "source": [
    "#Python Program to Find Numbers Divisible by Another Numbwe in list\n",
    "l=[] \n",
    "n=int(input(\"Enter number of element in list: \")) \n",
    "for i in range(1,n+1): \n",
    "    ele=int(input()) \n",
    "    l.append(ele) \n",
    "print(l)\n",
    "x=int(input(\"divider is:\")) \n",
    "for i in l:\n",
    "    if i%x==0:\n",
    "        print(i)\n",
    "       \n",
    "        "
   ]
  },
  {
   "cell_type": "code",
   "execution_count": 6,
   "id": "0525d34d",
   "metadata": {},
   "outputs": [
    {
     "name": "stdout",
     "output_type": "stream",
     "text": [
      "Enter any decimal no:12121313\n",
      "101110001111010011100001"
     ]
    }
   ],
   "source": [
    "#Python Program to Convert Decimal to Binary\n",
    "def decimalToBinary(num):\n",
    "    if num>1:\n",
    "        decimalToBinary(num//2)\n",
    "    print(num%2,end='')\n",
    "n=int(input(\"Enter any decimal no:\"))                                          #print(bin(n))\n",
    "                                                                              #main() function\n",
    "decimalToBinary(n)"
   ]
  },
  {
   "cell_type": "code",
   "execution_count": 3,
   "id": "f17c7df8",
   "metadata": {},
   "outputs": [
    {
     "name": "stdout",
     "output_type": "stream",
     "text": [
      "character:!\n",
      "The ASCII value of '!' is 33\n"
     ]
    }
   ],
   "source": [
    "#Python Program to Find ASCII Value of Character\n",
    "n=input(\"character:\")\n",
    "print(\"The ASCII value of '\" + n + \"' is\", ord(n)) "
   ]
  },
  {
   "cell_type": "code",
   "execution_count": 13,
   "id": "d0386a2d",
   "metadata": {},
   "outputs": [
    {
     "name": "stdout",
     "output_type": "stream",
     "text": [
      "Enter the first Number :24\n",
      "Enter the first Number :68\n",
      "The hcf of n1 & n2: 4\n"
     ]
    }
   ],
   "source": [
    "#Python Program to Find HCF or GCD\n",
    "def computeHCF(num1,num2):\n",
    "    if num1>num2:\n",
    "        smaller=num2\n",
    "    else:\n",
    "        smaller=num1\n",
    "    for i in range(1,smaller+1):\n",
    "        if((num1%i==0) and(num2%i==0)):\n",
    "            hcf=i\n",
    "    return hcf\n",
    "    \n",
    "    \n",
    "n1=int(input(\"Enter the first Number :\"))\n",
    "n2=int(input(\"Enter the first Number :\"))\n",
    "print(\"The hcf of n1 & n2:\", computeHCF(n1,n2))\n"
   ]
  },
  {
   "cell_type": "code",
   "execution_count": 14,
   "id": "d9acad83",
   "metadata": {},
   "outputs": [
    {
     "name": "stdout",
     "output_type": "stream",
     "text": [
      "The gcd of 60 and 48 is : 12\n"
     ]
    }
   ],
   "source": [
    "#Write a python program to find HCf or GCD using euclidian Algorithm\n",
    "def computeGCD(x, y):\n",
    "    while(y):\n",
    "        x, y = y, x % y\n",
    "  \n",
    "    return x\n",
    "  \n",
    "a = 60\n",
    "b= 48\n",
    "  \n",
    "print (\"The gcd of 60 and 48 is : \",end=\"\")\n",
    "print (computeGCD(60,48))\n",
    "\n",
    "\n",
    "\n"
   ]
  },
  {
   "cell_type": "code",
   "execution_count": 20,
   "id": "23aadaaf",
   "metadata": {},
   "outputs": [
    {
     "name": "stdout",
     "output_type": "stream",
     "text": [
      "12\n",
      "48\n",
      "The LCM of n1 and n2 is 48\n"
     ]
    }
   ],
   "source": [
    "#Python Program to Find LCM\n",
    "def computeLCM(x,y):\n",
    "    if x>y:\n",
    "        greater=x\n",
    "    else:\n",
    "        greater=y\n",
    "    while(True):\n",
    "        if((greater % x == 0) and (greater % y == 0)):\n",
    "            lcm = greater\n",
    "            break\n",
    "    return lcm\n",
    "    \n",
    "\n",
    "n1=int(input(\"\"))\n",
    "n2=int(input(\"\"))\n",
    "print(\"The LCM of n1 and n2 is\",computeLCM(n1,n2))"
   ]
  },
  {
   "cell_type": "code",
   "execution_count": 21,
   "id": "34ff4efd",
   "metadata": {},
   "outputs": [
    {
     "name": "stdout",
     "output_type": "stream",
     "text": [
      "Enter the number :322\n",
      "1\n",
      "2\n",
      "7\n",
      "14\n",
      "23\n",
      "46\n",
      "161\n",
      "322\n"
     ]
    }
   ],
   "source": [
    "#Python funcction to Find the Factors of a Number\n",
    "n=int(input(\"Enter the number :\"))\n",
    "if n>1:\n",
    "    for i in range(1,n+1):\n",
    "        if n%i==0:\n",
    "            print(i)\n",
    "    \n",
    "\n"
   ]
  },
  {
   "cell_type": "code",
   "execution_count": 30,
   "id": "7254dd0e",
   "metadata": {},
   "outputs": [
    {
     "name": "stdout",
     "output_type": "stream",
     "text": [
      "Select operation.\n",
      "1.Add\n",
      "2.Subtract\n",
      "3.Multiply\n",
      "4.Divide\n",
      "Enter choice(1/2/3/4): 1\n",
      "Enter the number 1 :1211\n",
      "Enter the number 2 :13131\n",
      "14342\n"
     ]
    }
   ],
   "source": [
    "#Python Program to Make a Simple Calculator\n",
    "def add(n1,n2):\n",
    "    return n1+n2\n",
    "def sub(n1,n2):\n",
    "    return n1-n2\n",
    "def mul(n1,n2):\n",
    "    return n1*n2\n",
    "def div(n1,n2):\n",
    "    return n1/n2\n",
    "print(\"Select operation.\")\n",
    "print(\"1.Add\")\n",
    "print(\"2.Subtract\")\n",
    "print(\"3.Multiply\")\n",
    "print(\"4.Divide\")\n",
    "while True:\n",
    "    choice = input(\"Enter choice(1/2/3/4): \")\n",
    "    if choice in ('1', '2', '3', '4'):\n",
    "        n1=int(input(\"Enter the number 1 :\"))\n",
    "        n2=int(input(\"Enter the number 2 :\"))\n",
    "        if choice == '1':\n",
    "            print(add(n1, n2))\n",
    "\n",
    "        elif (choice == '2'):\n",
    "            print(sub(n1, n2))\n",
    "\n",
    "        elif choice == '3':\n",
    "            print(mul(n1, n2))\n",
    "\n",
    "        elif choice == '4':\n",
    "            print(div(n1, n2))\n",
    "        break\n",
    "    else:\n",
    "        print(\"Invalid Input\")\n",
    "\n",
    "    "
   ]
  },
  {
   "cell_type": "code",
   "execution_count": null,
   "id": "6400ee75",
   "metadata": {},
   "outputs": [],
   "source": []
  },
  {
   "cell_type": "code",
   "execution_count": null,
   "id": "838a091f",
   "metadata": {},
   "outputs": [],
   "source": []
  }
 ],
 "metadata": {
  "kernelspec": {
   "display_name": "Python 3",
   "language": "python",
   "name": "python3"
  },
  "language_info": {
   "codemirror_mode": {
    "name": "ipython",
    "version": 3
   },
   "file_extension": ".py",
   "mimetype": "text/x-python",
   "name": "python",
   "nbconvert_exporter": "python",
   "pygments_lexer": "ipython3",
   "version": "3.8.8"
  }
 },
 "nbformat": 4,
 "nbformat_minor": 5
}
